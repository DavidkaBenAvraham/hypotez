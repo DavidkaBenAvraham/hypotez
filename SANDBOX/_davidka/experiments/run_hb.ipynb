{
 "cells": [
  {
   "cell_type": "code",
   "execution_count": null,
   "id": "8447fb80-845a-4074-9fa7-5e4ed6987db6",
   "metadata": {},
   "outputs": [],
   "source": [
    "import ipdb # <- трасировка и точки останова\n",
    "from types import SimpleNamespace\n",
    "import header\n",
    "from header import __root__\n",
    "from src import gs\n",
    "\n",
    "from src.suppliers.suppliers_list import *\n",
    "from src.utils.jjson import j_loads"
   ]
  },
  {
   "cell_type": "code",
   "execution_count": null,
   "id": "433a2022-a6a9-4595-bc5e-38b001a2eb9b",
   "metadata": {},
   "outputs": [],
   "source": [
    "scenario:SimpleNamespace = j_loads(__root__ /  'src' / 'suppliers' / 'suppliers_list' / 'hb' / 'scenarios' / 'bodyspa.json')\n",
    "hb:'Graber' = HbGraber()"
   ]
  },
  {
   "cell_type": "code",
   "execution_count": null,
   "id": "04a556c9-5595-4a43-9e56-28a52ba2b05f",
   "metadata": {},
   "outputs": [],
   "source": [
    "res = await hb.process_supplier_scenarios_async('hb', scenario, 1)\n",
    "print(res)"
   ]
  },
  {
   "cell_type": "code",
   "execution_count": null,
   "id": "880a90df-425e-4042-b35b-aff8a1f43d86",
   "metadata": {},
   "outputs": [],
   "source": []
  },
  {
   "cell_type": "code",
   "execution_count": null,
   "id": "08d6c386-3851-41f1-bdb5-edd8c7b453f3",
   "metadata": {},
   "outputs": [],
   "source": []
  }
 ],
 "metadata": {
  "kernelspec": {
   "display_name": "Python 3 (ipykernel)",
   "language": "python",
   "name": "python3"
  },
  "language_info": {
   "codemirror_mode": {
    "name": "ipython",
    "version": 3
   },
   "file_extension": ".py",
   "mimetype": "text/x-python",
   "name": "python",
   "nbconvert_exporter": "python",
   "pygments_lexer": "ipython3",
   "version": "3.12.7"
  }
 },
 "nbformat": 4,
 "nbformat_minor": 5
}
