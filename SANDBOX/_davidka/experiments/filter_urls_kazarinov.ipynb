{
 "cells": [
  {
   "cell_type": "code",
   "execution_count": 2,
   "id": "a1fae255-b9b4-4371-9d21-d69c6c794887",
   "metadata": {},
   "outputs": [
    {
     "name": "stderr",
     "output_type": "stream",
     "text": [
      "2025-05-02 05:24:28,756 - INFO - ℹ️ \u001b[32m\u001b[49m--- Начало СИНХРОННОЙ инициализации Driver --- \u001b[0m\n",
      "2025-05-02 05:24:28,757 - WARNING - ⚠️ \u001b[91m\u001b[49mOpenAI LLM не инициализирован (Key=True, Status=disabled, Model=True) \u001b[0m\n",
      "2025-05-02 05:24:28,758 - INFO - ℹ️ \u001b[32m\u001b[49mИнициализация Gemini: Model=gemini-2.5-flash-preview-04-17 \u001b[0m\n",
      "2025-05-02 05:24:28,782 - INFO - ℹ️ \u001b[32m\u001b[49mGemini LLM инициализирован. \u001b[0m\n",
      "2025-05-02 05:24:28,784 - INFO - ℹ️ \u001b[32m\u001b[49m--- Синхронная инициализация Driver завершена. Вызовите async_init() --- \u001b[0m\n"
     ]
    }
   ],
   "source": [
    "## \\file /sandbox/davidka/crawler.py\n",
    "# -*- coding: utf-8 -*-\n",
    "#! .pyenv/bin/python3\n",
    "\n",
    "\"\"\"\n",
    "Модуль для сбора данных со страниц товаров с различных сайтов\n",
    "=====================================================\n",
    "Использует WebDriver для взаимодействия со страницами и LLM для извлечения\n",
    "структурированной информации на основе инструкций. Обрабатывает задачи\n",
    "по сбору данных о товарах по URL, по категориям, извлечению категорий\n",
    "с сайтов поставщиков и поиску товаров на заданных доменах.\n",
    "\n",
    "```rst\n",
    ".. module:: sandbox.davidka.crawler\n",
    "```\n",
    "\"\"\"\n",
    "import asyncio\n",
    "import random # Используется для перемешивания списков (хотя сейчас закомментировано)\n",
    "from pathlib import Path\n",
    "from types import SimpleNamespace\n",
    "from typing import List, Optional, Dict, Any, Set # Добавлены Dict, Any, Optional, List, Set\n",
    "\n",
    "import header\n",
    "from header import __root__\n",
    "from src import gs\n",
    "from src.webdriver import driver\n",
    "from src.webdriver.llm_driver import SimpleDriver\n",
    "from SANDBOX.davidka import utils \n",
    "from src.utils.file import read_text_file\n",
    "from src.utils.jjson import j_loads, j_dumps\n",
    "from src.logger import logger\n",
    "\n",
    "class Config:\n",
    "    ENDPOINT:Path = __root__/ 'SANDBOX/davidka'\n",
    "    GEMINI_API:str = gs.credentials.gemini.kazarinov.api_key\n",
    "    GEMINI_MODEL_NAME = 'gemini-2.5-flash-preview-04-17'\n",
    "    driver:SimpleDriver = SimpleDriver(GEMINI_API,gemini_model_name=GEMINI_MODEL_NAME)\n",
    "    instruction_filter_urls:str = read_text_file(ENDPOINT/'instructions'/'filter_urls.md')\n",
    "    output_file:Path = Path(\"J://My Drive//hypo69//llm//filtered_urls.json\") \n",
    "\n",
    "async def filter_url(url:str) -> bool:\n",
    "    \"\"\"\"\"\"\n",
    "    output_dict:dict = j_loads(Config.output_file) or {}\n",
    "    driver = Config.driver\n",
    "    task = Config.instruction_filter_urls.replace('{TARGET_URL}', url)\n",
    "    raw_res = await driver.run_task(task) # Предполагаем использование стандартного LLM\n",
    "    res_dict:dict = j_loads(raw_res)\n",
    "    output_dict.update(res_dict)\n",
    "    j_dumps(output_dict, Config.output_file)\n",
    "    ...\n",
    "\n",
    "\n",
    "async def main():\n",
    "    urls_list: list = utils.fetch_urls_from_all_mining_files(['random_urls','output_product_data_set1'])\n",
    "    # tasks = [filter_url(url.strip()) for url in urls_list]\n",
    "    # await asyncio.gather(*tasks)\n",
    "    for url in urls_list:\n",
    "        url = url.strip()\n",
    "        if url.startswith('http'):\n",
    "            try:\n",
    "                await filter_url(url)\n",
    "            except Exception as ex:\n",
    "                print(f\"Error processing URL {url}: {ex}\")\n",
    "        else:\n",
    "            print(f\"Invalid URL format: {url}\")\n"
   ]
  },
  {
   "cell_type": "code",
   "execution_count": null,
   "id": "dcbc429b-b337-425d-9799-b573878861d7",
   "metadata": {},
   "outputs": [
    {
     "name": "stderr",
     "output_type": "stream",
     "text": [
      "2025-05-02 05:24:32,595 - INFO - ℹ️ \u001b[32m\u001b[49m--- Начало АСИНХРОННОЙ инициализации Driver --- \u001b[0m\n",
      "2025-05-02 05:24:32,596 - INFO - ℹ️ \u001b[32m\u001b[49mАсинхронная инициализация BrowserController... \u001b[0m\n",
      "2025-05-02 05:24:32,596 - INFO - ℹ️ \u001b[32m\u001b[49mBrowserController создан (Headless=True, Timeout=30000ms). Вызовите start() для инициализации. \u001b[0m\n",
      "2025-05-02 05:24:32,596 - INFO - ℹ️ \u001b[32m\u001b[49mАсинхронная инициализация BrowserController... \u001b[0m\n",
      "2025-05-02 05:24:33,239 - INFO - ℹ️ \u001b[32m\u001b[49mPlaywright запущен, браузер открыт, контекст и страница созданы (Async). \u001b[0m\n",
      "2025-05-02 05:24:33,239 - INFO - ℹ️ \u001b[32m\u001b[49mBrowserController асинхронно инициализирован. \u001b[0m\n",
      "2025-05-02 05:24:33,240 - INFO - ℹ️ \u001b[32m\u001b[49mИнициализация зависимых контроллеров... \u001b[0m\n",
      "2025-05-02 05:24:33,240 - DEBUG - 🐛 \u001b[36m\u001b[49mDataExtractionController инициализирован. \u001b[0m\n",
      "NoneType: None\n",
      "2025-05-02 05:24:33,241 - INFO - ℹ️ \u001b[32m\u001b[49mDataExtractionController иниц. \u001b[0m\n",
      "2025-05-02 05:24:33,241 - DEBUG - 🐛 \u001b[36m\u001b[49mFormController инициализирован. \u001b[0m\n",
      "NoneType: None\n",
      "2025-05-02 05:24:33,242 - INFO - ℹ️ \u001b[32m\u001b[49mFormController иниц. \u001b[0m\n",
      "2025-05-02 05:24:33,242 - DEBUG - 🐛 \u001b[36m\u001b[49mScreenshotController инициализирован. \u001b[0m\n",
      "NoneType: None\n",
      "2025-05-02 05:24:33,242 - INFO - ℹ️ \u001b[32m\u001b[49mScreenshotController иниц. \u001b[0m\n",
      "2025-05-02 05:24:33,244 - DEBUG - 🐛 \u001b[36m\u001b[49mDownloadController инициализирован. \u001b[0m\n",
      "NoneType: None\n",
      "2025-05-02 05:24:33,244 - INFO - ℹ️ \u001b[32m\u001b[49mDownloadController иниц. \u001b[0m\n",
      "2025-05-02 05:24:33,245 - DEBUG - 🐛 \u001b[36m\u001b[49mJavaScriptExecutionController инициализирован. \u001b[0m\n",
      "NoneType: None\n",
      "2025-05-02 05:24:33,245 - INFO - ℹ️ \u001b[32m\u001b[49mJavaScriptExecutionController иниц. \u001b[0m\n",
      "2025-05-02 05:24:33,246 - WARNING - ⚠️ \u001b[91m\u001b[49mОшибка init StateManager: 'BrowserContext' object has no attribute 'is_closed' \u001b[0m\n",
      "2025-05-02 05:24:33,247 - INFO - ℹ️ \u001b[32m\u001b[49mСоздание инструментов LangChain... \u001b[0m\n",
      "2025-05-02 05:24:33,247 - DEBUG - 🐛 \u001b[36m\u001b[49mИнструмент DuckDuckGoSearch добавлен. \u001b[0m\n",
      "NoneType: None\n",
      "2025-05-02 05:24:33,248 - DEBUG - 🐛 \u001b[36m\u001b[49mДобавлено 5 инструментов BrowserController. \u001b[0m\n",
      "NoneType: None\n",
      "2025-05-02 05:24:33,249 - DEBUG - 🐛 \u001b[36m\u001b[49mДобавлено 3 инструментов DataExtraction. \u001b[0m\n",
      "NoneType: None\n",
      "2025-05-02 05:24:33,249 - DEBUG - 🐛 \u001b[36m\u001b[49mДобавлено 3 инструментов FormController. \u001b[0m\n",
      "NoneType: None\n",
      "2025-05-02 05:24:33,250 - DEBUG - 🐛 \u001b[36m\u001b[49mИнструмент TakeScreenshot добавлен. \u001b[0m\n",
      "NoneType: None\n",
      "2025-05-02 05:24:33,250 - DEBUG - 🐛 \u001b[36m\u001b[49mИнструмент ClickAndDownload добавлен. \u001b[0m\n",
      "NoneType: None\n",
      "2025-05-02 05:24:33,251 - DEBUG - 🐛 \u001b[36m\u001b[49mИнструмент ExecuteJavaScript добавлен. \u001b[0m\n",
      "NoneType: None\n",
      "2025-05-02 05:24:33,251 - WARNING - ⚠️ \u001b[91m\u001b[49mИнструменты StateManager не созданы. \u001b[0m\n",
      "2025-05-02 05:24:33,252 - INFO - ℹ️ \u001b[32m\u001b[49mИтоговый список доступных инструментов Driver: ['DuckDuckGoSearch', 'BrowserNavigate', 'BrowserScrapeText', 'BrowserScrapeHTML', 'BrowserClickElement', 'GetCurrentURL', 'ExtractProductSchema', 'ExtractContactInfo', 'FindPageLinks', 'FillFormField', 'SelectDropdown', 'SubmitForm', 'TakeScreenshot', 'ClickAndDownload', 'ExecuteJavaScript'] \u001b[0m\n",
      "2025-05-02 05:24:33,252 - INFO - ℹ️ \u001b[32m\u001b[49m--- Асинхронная инициализация Driver завершена --- \u001b[0m\n",
      "2025-05-02 05:24:33,254 - INFO - ℹ️ \u001b[32m\u001b[49mЛенивая инициализация Driver завершена успешно. \u001b[0m\n",
      "2025-05-02 05:24:33,255 - INFO - ℹ️ \u001b[32m\u001b[49mЗапуск run_task (Gemini): '**Prompt (English):** You are a web analyst. Your task is to classify a web page given by the URL `h...' \u001b[0m\n",
      "2025-05-02 05:24:33,711 - DEBUG - 🐛 \u001b[36m\u001b[49mСоздание агента: LLM=ChatGoogleGenerativeAI, Tools=['DuckDuckGoSearch', 'BrowserNavigate', 'BrowserScrapeText', 'BrowserScrapeHTML', 'BrowserClickElement', 'GetCurrentURL', 'ExtractProductSchema', 'ExtractContactInfo', 'FindPageLinks', 'FillFormField', 'SelectDropdown', 'SubmitForm', 'TakeScreenshot', 'ClickAndDownload', 'ExecuteJavaScript'] \u001b[0m\n",
      "NoneType: None\n",
      "2025-05-02 05:24:33,715 - INFO - ℹ️ \u001b[32m\u001b[49mAgentExecutor создан. \u001b[0m\n",
      "2025-05-02 05:24:33,716 - INFO - ℹ️ \u001b[32m\u001b[49mВызов agent_executor.ainvoke (Gemini) (Попытка 1/4)... \u001b[0m\n"
     ]
    },
    {
     "name": "stdout",
     "output_type": "stream",
     "text": [
      "\n",
      "\n",
      "\u001b[1m> Entering new AgentExecutor chain...\u001b[0m\n"
     ]
    },
    {
     "name": "stderr",
     "output_type": "stream",
     "text": [
      "2025-05-02 05:24:36,567 - INFO - ℹ️ \u001b[32m\u001b[49mПереход на: https://www.fujielectric.com/products/hmi/x1/ \u001b[0m\n"
     ]
    },
    {
     "name": "stdout",
     "output_type": "stream",
     "text": [
      "\u001b[32;1m\u001b[1;3mAction: BrowserNavigate\n",
      "Action Input: https://www.fujielectric.com/products/hmi/x1/\u001b[0m"
     ]
    },
    {
     "name": "stderr",
     "output_type": "stream",
     "text": [
      "2025-05-02 05:24:39,479 - WARNING - ⚠️ \u001b[91m\u001b[49mОшибка навигации для https://www.fujielectric.com/products/hmi/x1/. Статус: 404 \u001b[0m\n"
     ]
    },
    {
     "name": "stdout",
     "output_type": "stream",
     "text": [
      "\u001b[33;1m\u001b[1;3mНе удалось перейти на https://www.fujielectric.com/products/hmi/x1/. Статус: 404\u001b[0m"
     ]
    },
    {
     "name": "stderr",
     "output_type": "stream",
     "text": [
      "2025-05-02 05:24:40,622 - INFO - ℹ️ \u001b[32m\u001b[49mПереход на: https://www.fujielectric.com/products/hmi/ \u001b[0m\n"
     ]
    },
    {
     "name": "stdout",
     "output_type": "stream",
     "text": [
      "\u001b[32;1m\u001b[1;3mThe initial URL returned a 404 error. According to the instructions, I need to move one level up the URL path and try again. The current URL is `https://www.fujielectric.com/products/hmi/x1/`. Removing the last segment `/x1/` results in `https://www.fujielectric.com/products/hmi/`. I will navigate to this new URL.\n",
      "Action: BrowserNavigate\n",
      "Action Input: https://www.fujielectric.com/products/hmi/\u001b[0m"
     ]
    },
    {
     "name": "stderr",
     "output_type": "stream",
     "text": [
      "2025-05-02 05:24:42,493 - WARNING - ⚠️ \u001b[91m\u001b[49mОшибка навигации для https://www.fujielectric.com/products/hmi/. Статус: 404 \u001b[0m\n"
     ]
    },
    {
     "name": "stdout",
     "output_type": "stream",
     "text": [
      "\u001b[33;1m\u001b[1;3mНе удалось перейти на https://www.fujielectric.com/products/hmi/. Статус: 404\u001b[0m"
     ]
    },
    {
     "name": "stderr",
     "output_type": "stream",
     "text": [
      "2025-05-02 05:24:43,370 - INFO - ℹ️ \u001b[32m\u001b[49mПереход на: https://www.fujielectric.com/products/ \u001b[0m\n"
     ]
    },
    {
     "name": "stdout",
     "output_type": "stream",
     "text": [
      "\u001b[32;1m\u001b[1;3mAction: BrowserNavigate\n",
      "Action Input: https://www.fujielectric.com/products/\u001b[0m"
     ]
    },
    {
     "name": "stderr",
     "output_type": "stream",
     "text": [
      "2025-05-02 05:24:45,194 - INFO - ℹ️ \u001b[32m\u001b[49mУспешный переход на https://www.fujielectric.com/products/. Статус: 200. Заголовок: 'Products & Solutions | Fuji Electric Global' \u001b[0m\n"
     ]
    },
    {
     "name": "stdout",
     "output_type": "stream",
     "text": [
      "\u001b[33;1m\u001b[1;3mУспешный переход на https://www.fujielectric.com/products/. Заголовок: Products & Solutions | Fuji Electric Global. Начало текста: Skip navigation menu\n",
      " Regional Websites\n",
      "Regional Websites\n",
      "Americas\n",
      "\n",
      "USA \n",
      "\n",
      "Europe\n",
      "\n",
      "France \n",
      "\n",
      "Germany \n",
      "\n",
      "Asia\n",
      "\n",
      "China \n",
      "\n",
      "Japan \n",
      "\n",
      "Singapore \n",
      "\n",
      "Hong Kong \n",
      "\n",
      "Korea \n",
      "\n",
      "Taiwan \n",
      "\n",
      "India \n",
      "\n",
      "Malaysia \n",
      "\n",
      "Thailand \n",
      "\n",
      "Indone...\u001b[0m"
     ]
    }
   ],
   "source": [
    "await main()"
   ]
  },
  {
   "cell_type": "code",
   "execution_count": null,
   "id": "fa537419-8d9f-40a4-b616-142848ef3c2c",
   "metadata": {},
   "outputs": [],
   "source": []
  }
 ],
 "metadata": {
  "kernelspec": {
   "display_name": "Python 3 (ipykernel)",
   "language": "python",
   "name": "python3"
  },
  "language_info": {
   "codemirror_mode": {
    "name": "ipython",
    "version": 3
   },
   "file_extension": ".py",
   "mimetype": "text/x-python",
   "name": "python",
   "nbconvert_exporter": "python",
   "pygments_lexer": "ipython3",
   "version": "3.12.7"
  }
 },
 "nbformat": 4,
 "nbformat_minor": 5
}
