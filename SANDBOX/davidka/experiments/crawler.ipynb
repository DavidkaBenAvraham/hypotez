{
 "cells": [
  {
   "cell_type": "markdown",
   "id": "cb9226cb-bb4b-4fa1-aaa6-f314ec42036e",
   "metadata": {},
   "source": [
    "```python\n",
    "## \\file /sandbox/davidka/crawler.py\n",
    "# -*- coding: utf-8 -*-\n",
    "#! .pyenv/bin/python3\n",
    "```\n",
    "\n",
    "Модуль для сбора данных со страниц различных сайтов\n",
    "=====================================================\n",
    "\n",
    "\n",
    "```rst\n",
    ".. module:: sandbox.davidka.crawler\n",
    "```\n"
   ]
  },
  {
   "cell_type": "code",
   "execution_count": 1,
   "id": "f9a7f074-3c87-40f9-ab5e-ed89515e49b2",
   "metadata": {},
   "outputs": [
    {
     "name": "stderr",
     "output_type": "stream",
     "text": [
      "2025-04-27 21:54:06,172 - WARNING - ⚠️ \u001b[91m\u001b[49mError fetching data from git: https://api.github.com/repos/hypotez/hypo/releases/latest\n",
      " response.status_code=404 \u001b[0m\n",
      "2025-04-27 21:54:10,029 - INFO - Anonymized telemetry enabled. See https://docs.browser-use.com/development/telemetry for more information.\n",
      "2025-04-27 21:54:10,044 - WARNING - ⚠️ \u001b[91m\u001b[49mНе удалось импортировать BrowserController. Браузерные инструменты будут недоступны. No module named 'src.webdriver.llm_driver.controlers'\u001b[0m\n",
      "2025-04-27 21:54:10,046 - INFO - ℹ️ \u001b[32m\u001b[49mConfig Gemini: Status=active, Model=gemini-1.5-flash-latest, Key Present=True \u001b[0m\n",
      "2025-04-27 21:54:10,047 - INFO - ℹ️ \u001b[32m\u001b[49mConfig OpenAI: Status=disabled, Model=gpt-4o, Key Present=True \u001b[0m\n"
     ]
    }
   ],
   "source": [
    "import ipdb # <- трасировка и точки останова\n",
    "import asyncio, random\n",
    "from pathlib import Path\n",
    "from types import SimpleNamespace\n",
    "\n",
    "\n",
    "import header\n",
    "from header import __root__\n",
    "from src import gs\n",
    "from src.webdriver.llm_driver.simple_driver import SimpleDriver\n",
    "from src.utils.jjson import j_loads, j_loads_ns, j_dumps\n",
    "from src.utils.file import read_text_file, save_text_file, get_filenames_from_directory \n",
    "from src.utils.printer import pprint as print\n",
    "from src.logger.logger import logger"
   ]
  },
  {
   "cell_type": "markdown",
   "id": "edd04022-95fe-43a8-85dc-ab009364f1fe",
   "metadata": {},
   "source": [
    "## Конфигурация"
   ]
  },
  {
   "cell_type": "code",
   "execution_count": 2,
   "id": "8941e20f-8bc2-4b16-b112-1c2e00b25731",
   "metadata": {},
   "outputs": [
    {
     "name": "stderr",
     "output_type": "stream",
     "text": [
      "2025-04-27 21:54:19,378 - WARNING - ⚠️ \u001b[91m\u001b[49mOpenAI LLM не инициализирован (Key=True, Status=disabled) \u001b[0m\n",
      "2025-04-27 21:54:19,379 - INFO - ℹ️ \u001b[32m\u001b[49mИнициализация Gemini: Model=gemini-1.5-flash-latest \u001b[0m\n",
      "2025-04-27 21:54:19,379 - DEBUG - 🐛 \u001b[36m\u001b[49mУстановлена переменная окружения GOOGLE_API_KEY. \u001b[0m\n",
      "2025-04-27 21:54:19,395 - INFO - ℹ️ \u001b[32m\u001b[49mGemini LLM инициализирован. \u001b[0m\n",
      "2025-04-27 21:54:22,084 - INFO - ℹ️ \u001b[32m\u001b[49mДобавлен инструмент WebSearchAPI (SerpApi). \u001b[0m\n",
      "2025-04-27 21:54:22,100 - WARNING - ⚠️ \u001b[91m\u001b[49mBrowserController недоступен, браузерные инструменты не добавлены. \u001b[0m\n",
      "2025-04-27 21:54:22,100 - INFO - ℹ️ \u001b[32m\u001b[49mИтоговый список инструментов: ['WebSearchAPI'] \u001b[0m\n"
     ]
    }
   ],
   "source": [
    "class Config(SimpleNamespace):\n",
    "    ENDPOINT:Path = __root__/'SANDBOX'/'davidka'\n",
    "    mining_data_path:Path = ENDPOINT/'random_urls'\n",
    "    crawl_files_list:list = get_filenames_from_directory(mining_data_path, 'json')\n",
    "    generate_product_links_instruction:str =  Path(ENDPOINT/ 'instructions'/ 'generate_product_links.md').read_text(encoding='utf-8')\n",
    "    grab_product_page_instruction:str =  Path(ENDPOINT/ 'instructions'/ 'grab_product_page.md').read_text(encoding='utf-8')\n",
    "\n",
    "\n",
    "driver:SimpleDriver = SimpleDriver()"
   ]
  },
  {
   "cell_type": "markdown",
   "id": "dbc7c71a-1fce-46f8-a65f-2c8004e830e0",
   "metadata": {},
   "source": [
    "## Функции"
   ]
  },
  {
   "cell_type": "code",
   "execution_count": 3,
   "id": "c5ee7b84-d828-4127-8496-b8adaaf36a0b",
   "metadata": {},
   "outputs": [],
   "source": [
    "def get_products_urls_list_from_files(crawl_files_list:list = []) -> list:\n",
    "    \"\"\"\n",
    "   Функция читает содержимое файлов  в директории `mining_data`, перемешивает их и возвращает одним большим списком\n",
    "   \"\"\"\n",
    "    products_urls_list = []\n",
    "    for filename in crawl_files_list or Config.crawl_files_list:\n",
    "        try:\n",
    "            file_path = Config.mining_data_path / filename\n",
    "            crawl_data = j_loads(file_path)['products']\n",
    "            for product in crawl_data:\n",
    "                products_urls_list.append(product['product_url'])\n",
    "        except Exception as ex:\n",
    "            logger.error(f'Ошибка при обработке файла/n {filename=}/n', ex)\n",
    "            ...\n",
    "    random.shuffle(products_urls_list)\n",
    "    return products_urls_list if isinstance(products_urls_list, list) else [products_urls_list]\n",
    "\n",
    "def yield_product_urls_from_files(directory: Path = Config.mining_data_path, pattern: str = 'json'):\n",
    "    \"\"\"\n",
    "    Функция возвращает генератор списка `url` Применяется на больших объемах данных\n",
    "    \"\"\"\n",
    "    filenames = get_filenames_from_directory(directory, pattern)\n",
    "    for filename in filenames:\n",
    "        try:\n",
    "            file_path = directory / filename\n",
    "            crawl_data = j_loads(file_path)['products']\n",
    "            for product in crawl_data:\n",
    "                yield product['product_url']\n",
    "        except Exception as ex:\n",
    "            logger.error(f'Ошибка при обработке файла {filename=}', ex)\n",
    "            ...\n",
    "            \n",
    "def get_categories(crawl_files_list:list = []) -> list:\n",
    "    \"\"\"Возвращает все категории из файлов словарей для майнинга\"\"\"\n",
    "    categories_list:list = []\n",
    "    for filename in crawl_files_list or Config.crawl_files_list:\n",
    "        try:\n",
    "            file_path = Config.mining_data_path / filename\n",
    "            crawl_data = j_loads(file_path)['products']\n",
    "            for product in crawl_data:\n",
    "                try:\n",
    "                    categories_list.append(product['parent_category'])\n",
    "                except:\n",
    "                    ...\n",
    "                try:    \n",
    "                    categories_list.append(product['category_name'])\n",
    "                except:\n",
    "                    ...\n",
    "        except Exception as ex:\n",
    "            logger.error(f'Ошибка при обработке файла/n {filename=}/n', ex)\n",
    "            ...\n",
    "            return categories_list\n",
    "            ...\n",
    "    categories_list = list(set(categories_list))\n",
    "    random.shuffle(categories_list)\n",
    "    return categories_list "
   ]
  },
  {
   "cell_type": "markdown",
   "id": "2d411e1e-8474-4b58-bd90-faa3efef0332",
   "metadata": {},
   "source": [
    "### Для готового списка URL товаров"
   ]
  },
  {
   "cell_type": "code",
   "execution_count": 4,
   "id": "f4270213-b012-4cf6-9595-b2c319b5a13e",
   "metadata": {},
   "outputs": [],
   "source": [
    "# Через генератор для совсем больших данных\n",
    "# for product_url in yield_product_urls_from_files():\n",
    "\n",
    "async def grab_product_page():\n",
    "    for product_url in get_products_urls_list_from_files():\n",
    "        try:\n",
    "            logger.info(f'Обработка URL: {product_url}')\n",
    "            task = Config.grab_product_page_instruction.replace('<URL>', product_url)\n",
    "            \n",
    "            extracted_data = await driver.simple_process_task_async(task)\n",
    "            ipdb.set_trace()\n",
    "            print(f'\\n\\n{extracted_data=}')\n",
    "            ...\n",
    "        except Exception as ex:\n",
    "            logger.error(f'Ошибка при обработке {product_url=}', ex)\n",
    "\n",
    "# await grab_product_page()"
   ]
  },
  {
   "cell_type": "markdown",
   "id": "3cc68c5d-269c-44cd-b261-7e5961111b91",
   "metadata": {},
   "source": [
    "### Для поиска по категории"
   ]
  },
  {
   "cell_type": "code",
   "execution_count": null,
   "id": "1e79586c-7e51-42e8-ab22-9678b776ac1d",
   "metadata": {},
   "outputs": [],
   "source": [
    "async def get_products_by_category(category:str, num_of_links:str = 'две', instruction:str = ''):\n",
    "    \n",
    "        try:\n",
    "            logger.info(f'Обработка {category=}')\n",
    "            task = instruction if instruction else Config.generate_product_links_instruction.replace('<product category name>', category).replace('<num of links>', num_of_links)\n",
    "            extracted_data = await driver.simple_process_task_async(task)\n",
    "            print(extracted_data)\n",
    "            \n",
    "            ...\n",
    "        except Exception as ex:\n",
    "            logger.error(f'Ошибка при обработке {category=}', ex)\n",
    "\n",
    "\n",
    "# for category in get_categories():\n",
    "#     instruction = Path(Config.ENDPOINT/ 'instructions'/ 'generate_product_links.md').read_text(encoding='utf-8')\n",
    "#     await get_products_by_category(category, instruction = instruction)\n",
    "#     break"
   ]
  },
  {
   "cell_type": "code",
   "execution_count": null,
   "id": "f3a83203-8e91-4287-ab6b-748eb17d86d9",
   "metadata": {},
   "outputs": [],
   "source": []
  }
 ],
 "metadata": {
  "kernelspec": {
   "display_name": "Python 3 (ipykernel)",
   "language": "python",
   "name": "python3"
  },
  "language_info": {
   "codemirror_mode": {
    "name": "ipython",
    "version": 3
   },
   "file_extension": ".py",
   "mimetype": "text/x-python",
   "name": "python",
   "nbconvert_exporter": "python",
   "pygments_lexer": "ipython3",
   "version": "3.13.2"
  }
 },
 "nbformat": 4,
 "nbformat_minor": 5
}
