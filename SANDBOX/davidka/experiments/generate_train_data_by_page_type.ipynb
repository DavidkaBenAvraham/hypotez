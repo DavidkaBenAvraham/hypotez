{
 "cells": [
  {
   "cell_type": "markdown",
   "id": "2738ba62-bcef-45ab-b151-44fcbef862da",
   "metadata": {},
   "source": [
    "# Сортировка полученных данных о поставщике в зависимости от типа страницы\n",
    "Разбор файлов в дирекрории `J:\\My Drive\\hypo69\\llm\\data_by_supplier`\n",
    "\n",
    "Пример словаря:\n",
    "```json\n",
    "{\n",
    "\n",
    "    'category':''\n",
    "'text':'',\n",
    "    'internal_links':[],\n",
    "    'title_tag_content':'',\n",
    "    'meta_description:'',\n",
    "    ''\n",
    "}"
   ]
  },
  {
   "cell_type": "code",
   "execution_count": 3,
   "id": "8953551f-2acc-4ac4-b039-557ea3c23417",
   "metadata": {},
   "outputs": [],
   "source": [
    "import header\n",
    "from header import __root__\n",
    "from src import gs\n"
   ]
  },
  {
   "cell_type": "code",
   "execution_count": 12,
   "id": "bcaf17e0-478e-4462-bcb3-75bf5e80f435",
   "metadata": {},
   "outputs": [],
   "source": [
    "from pathlib import Path\n",
    "from types import SimpleNamespace\n",
    "from typing import Optional\n",
    "from src.utils.file import read_text_file\n",
    "from src.utils.jjson import j_loads, j_loads_ns, j_dumps"
   ]
  },
  {
   "cell_type": "code",
   "execution_count": 13,
   "id": "e2b35d20-634f-4372-af5a-3ef7d91de81c",
   "metadata": {},
   "outputs": [],
   "source": [
    "class Config:\n",
    "    \"\"\"Класс конфигурации скрипта.\"\"\"\n",
    "    ENDPOINT: Path = __root__ / 'SANDBOX' / 'davidka'\n",
    "    config:SimpleNamespace = j_loads_ns(ENDPOINT / 'davidka.json')\n",
    "    STORAGE:Path = Path(config.storage)\n",
    "    WINDOW_MODE: str = 'headless'\n",
    "    GEMINI_API_KEY: Optional[str] = None\n",
    "    GEMINI_MODEL_NAME = 'gemini-2.0-flash-exp' # Используйте актуальное имя модели\n",
    "    system_instructuction: str = read_text_file(ENDPOINT / 'instructions/analize_html.md')\n",
    "\n",
    "    updated_links_file_name:str =  'updated_links.json' \n",
    "\n",
    "    DELAY_AFTER_LINK_PROCESSING: int = 15"
   ]
  },
  {
   "cell_type": "code",
   "execution_count": null,
   "id": "a7146281-eaba-4ae5-be30-17bf1ed2eb17",
   "metadata": {},
   "outputs": [],
   "source": []
  }
 ],
 "metadata": {
  "kernelspec": {
   "display_name": "Python 3 (ipykernel)",
   "language": "python",
   "name": "python3"
  },
  "language_info": {
   "codemirror_mode": {
    "name": "ipython",
    "version": 3
   },
   "file_extension": ".py",
   "mimetype": "text/x-python",
   "name": "python",
   "nbconvert_exporter": "python",
   "pygments_lexer": "ipython3",
   "version": "3.13.2"
  }
 },
 "nbformat": 4,
 "nbformat_minor": 5
}
